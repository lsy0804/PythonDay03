{
 "cells": [
  {
   "cell_type": "code",
   "execution_count": 16,
   "id": "f17034fb",
   "metadata": {
    "scrolled": false
   },
   "outputs": [
    {
     "name": "stderr",
     "output_type": "stream",
     "text": [
      "<ipython-input-16-70a6e907fb8a>:15: DeprecationWarning: executable_path has been deprecated, please pass in a Service object\n",
      "  driver = webdriver.Chrome('chromedriver.exe') # 크롬 컨트롤을 위한 드라이버 연결\n"
     ]
    }
   ],
   "source": [
    "import requests          #인터넷 연결\n",
    "from bs4 import BeautifulSoup as bs   # 분석하기 쉽에 정리\n",
    "\n",
    "# requests 를 사용하지 못하게 막아놓은 사이트\n",
    "\n",
    "# url = \"https://www.melon.com/chart/index.htm\"\n",
    "# html = requests.get(url)  # 페이지 크롤링\n",
    "\n",
    "# soup = bs(html.text)      # 정리\n",
    "# print(soup)\n",
    "# 크롬 브라우저의 데이터를 읽어오는 방법 \n",
    "\n",
    "from selenium import webdriver # 파이썬으로 브라우저 컨트롤\n",
    "\n",
    "driver = webdriver.Chrome('chromedriver.exe') # 크롬 컨트롤을 위한 드라이버 연결\n",
    "url = \"https://www.melon.com/chart/index.htm\"\n",
    "driver.get(url)\n",
    "html = driver.page_source\n",
    "soup = bs(html) \n",
    "\n",
    "# pip install selenium 유의해야 할 점 \n",
    "# anaconda navigator 로 들어가서 거기 엔진에서 python version 확인 후 \n",
    "# 실행,, 밑에 DeprecationWarning 나와도 괜찮음! 빨간 sign으로 \n",
    "songs = soup.select('tr.lst50')\n",
    "len(songs)\n",
    "song = songs[0]\n",
    "song\n",
    "song.select('a')\n",
    "song.select('span > a')\n",
    "song.select('span > a')[0].text\n",
    "song.select('span > a')[1].text\n",
    "song_data = []\n",
    "rank = 1\n",
    "\n",
    "songs = soup.select('tr.lst50')\n",
    "\n",
    "for song in songs:\n",
    "    title = song.select('span > a')[0].text\n",
    "    singer = song.select('span > a')[1].text\n",
    "    song_data.append(['Melon', rank, title, singer])\n",
    "    rank += 1\n",
    "    \n",
    "songs = soup.select('tr.lst100')\n",
    "\n",
    "for song in songs:\n",
    "    title = song.select('span > a')[0].text\n",
    "    singer = song.select('span > a')[1].text\n",
    "    song_data.append(['Melon', rank, title, singer])\n",
    "    rank += 1  \n",
    "    \n",
    "song_data    \n",
    "import pandas as pd\n",
    "\n",
    "df = pd.DataFrame(song_data, columns = ['서비스','순위','타이틀','가수'])\n",
    "\n",
    "df.to_excel('melon.xlsx', index=False)\n"
   ]
  },
  {
   "cell_type": "code",
   "execution_count": null,
   "id": "698fff3a",
   "metadata": {},
   "outputs": [],
   "source": []
  },
  {
   "cell_type": "code",
   "execution_count": null,
   "id": "e969cce6",
   "metadata": {},
   "outputs": [],
   "source": []
  },
  {
   "cell_type": "code",
   "execution_count": null,
   "id": "1f285c72",
   "metadata": {},
   "outputs": [],
   "source": []
  },
  {
   "cell_type": "code",
   "execution_count": null,
   "id": "c3c98367",
   "metadata": {},
   "outputs": [],
   "source": []
  }
 ],
 "metadata": {
  "kernelspec": {
   "display_name": "Python 3",
   "language": "python",
   "name": "python3"
  },
  "language_info": {
   "codemirror_mode": {
    "name": "ipython",
    "version": 3
   },
   "file_extension": ".py",
   "mimetype": "text/x-python",
   "name": "python",
   "nbconvert_exporter": "python",
   "pygments_lexer": "ipython3",
   "version": "3.8.8"
  }
 },
 "nbformat": 4,
 "nbformat_minor": 5
}
