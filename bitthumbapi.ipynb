{
 "cells": [
  {
   "cell_type": "code",
   "execution_count": 3,
   "id": "26b35232",
   "metadata": {
    "scrolled": true
   },
   "outputs": [
    {
     "name": "stdout",
     "output_type": "stream",
     "text": [
      "Requirement already satisfied: pybithumb in c:\\users\\itsc\\anaconda3\\lib\\site-packages (1.0.21)\n",
      "Requirement already satisfied: datetime in c:\\users\\itsc\\anaconda3\\lib\\site-packages (from pybithumb) (4.3)\n",
      "Requirement already satisfied: bs4 in c:\\users\\itsc\\anaconda3\\lib\\site-packages (from pybithumb) (0.0.1)\n",
      "Requirement already satisfied: websockets in c:\\users\\itsc\\anaconda3\\lib\\site-packages (from pybithumb) (10.0)\n",
      "Requirement already satisfied: pandas in c:\\users\\itsc\\anaconda3\\lib\\site-packages (from pybithumb) (1.2.4)\n",
      "Requirement already satisfied: html5lib in c:\\users\\itsc\\anaconda3\\lib\\site-packages (from pybithumb) (1.1)\n",
      "Requirement already satisfied: requests in c:\\users\\itsc\\anaconda3\\lib\\site-packages (from pybithumb) (2.25.1)\n",
      "Requirement already satisfied: beautifulsoup4 in c:\\users\\itsc\\anaconda3\\lib\\site-packages (from bs4->pybithumb) (4.9.3)\n",
      "Requirement already satisfied: soupsieve>1.2 in c:\\users\\itsc\\anaconda3\\lib\\site-packages (from beautifulsoup4->bs4->pybithumb) (2.2.1)\n",
      "Requirement already satisfied: zope.interface in c:\\users\\itsc\\anaconda3\\lib\\site-packages (from datetime->pybithumb) (5.3.0)\n",
      "Requirement already satisfied: pytz in c:\\users\\itsc\\anaconda3\\lib\\site-packages (from datetime->pybithumb) (2021.1)\n",
      "Requirement already satisfied: six>=1.9 in c:\\users\\itsc\\anaconda3\\lib\\site-packages (from html5lib->pybithumb) (1.15.0)\n",
      "Requirement already satisfied: webencodings in c:\\users\\itsc\\anaconda3\\lib\\site-packages (from html5lib->pybithumb) (0.5.1)\n",
      "Requirement already satisfied: numpy>=1.16.5 in c:\\users\\itsc\\anaconda3\\lib\\site-packages (from pandas->pybithumb) (1.20.1)\n",
      "Requirement already satisfied: python-dateutil>=2.7.3 in c:\\users\\itsc\\anaconda3\\lib\\site-packages (from pandas->pybithumb) (2.8.1)\n",
      "Requirement already satisfied: idna<3,>=2.5 in c:\\users\\itsc\\anaconda3\\lib\\site-packages (from requests->pybithumb) (2.10)\n",
      "Requirement already satisfied: urllib3<1.27,>=1.21.1 in c:\\users\\itsc\\anaconda3\\lib\\site-packages (from requests->pybithumb) (1.26.4)\n",
      "Requirement already satisfied: chardet<5,>=3.0.2 in c:\\users\\itsc\\anaconda3\\lib\\site-packages (from requests->pybithumb) (4.0.0)\n",
      "Requirement already satisfied: certifi>=2017.4.17 in c:\\users\\itsc\\anaconda3\\lib\\site-packages (from requests->pybithumb) (2020.12.5)\n",
      "Requirement already satisfied: setuptools in c:\\users\\itsc\\anaconda3\\lib\\site-packages (from zope.interface->datetime->pybithumb) (52.0.0.post20210125)\n",
      "Note: you may need to restart the kernel to use updated packages.\n"
     ]
    }
   ],
   "source": [
    "pip install pybithumb\n"
   ]
  },
  {
   "cell_type": "code",
   "execution_count": 7,
   "id": "854b5ca5",
   "metadata": {},
   "outputs": [],
   "source": [
    "import pybithumb as pb"
   ]
  },
  {
   "cell_type": "code",
   "execution_count": 14,
   "id": "cef2d078",
   "metadata": {},
   "outputs": [
    {
     "data": {
      "text/plain": [
       "186"
      ]
     },
     "execution_count": 14,
     "metadata": {},
     "output_type": "execute_result"
    }
   ],
   "source": [
    "tickers = pb.get_tickers() #get tickers 는 코인의 명칭을 의미함! \n",
    "tickers\n",
    "len(tickers)"
   ]
  },
  {
   "cell_type": "code",
   "execution_count": 15,
   "id": "ddb531c8",
   "metadata": {},
   "outputs": [
    {
     "data": {
      "text/plain": [
       "902.3"
      ]
     },
     "execution_count": 15,
     "metadata": {},
     "output_type": "execute_result"
    }
   ],
   "source": [
    "price = pb.get_current_price(\"XRP\") # 현재 가격을 의미하는 듯? \n",
    "# 이러한 명령어들은 각 사이트 내의 Api docs 함수들을 살펴볼 수 있음. 문법들이랑~ \n",
    "price"
   ]
  },
  {
   "cell_type": "code",
   "execution_count": 2,
   "id": "f821f525",
   "metadata": {},
   "outputs": [
    {
     "name": "stdout",
     "output_type": "stream",
     "text": [
      "50699000.0\n",
      "50699000.0\n",
      "50699000.0\n",
      "50699000.0\n",
      "50699000.0\n",
      "50699000.0\n",
      "50699000.0\n",
      "50698000.0\n",
      "50698000.0\n",
      "50699000.0\n",
      "50699000.0\n",
      "50697000.0\n",
      "50697000.0\n",
      "50697000.0\n",
      "50697000.0\n",
      "50698000.0\n",
      "50698000.0\n",
      "50670000.0\n",
      "50693000.0\n",
      "50693000.0\n",
      "50670000.0\n",
      "50670000.0\n",
      "50672000.0\n",
      "50672000.0\n"
     ]
    },
    {
     "ename": "KeyboardInterrupt",
     "evalue": "",
     "output_type": "error",
     "traceback": [
      "\u001b[1;31m---------------------------------------------------------------------------\u001b[0m",
      "\u001b[1;31mKeyboardInterrupt\u001b[0m                         Traceback (most recent call last)",
      "\u001b[1;32m<ipython-input-2-0762b6139d02>\u001b[0m in \u001b[0;36m<module>\u001b[1;34m\u001b[0m\n\u001b[0;32m      3\u001b[0m     \u001b[0mprice\u001b[0m \u001b[1;33m=\u001b[0m \u001b[0mpb\u001b[0m\u001b[1;33m.\u001b[0m\u001b[0mget_current_price\u001b[0m\u001b[1;33m(\u001b[0m\u001b[1;34m\"BTC\"\u001b[0m\u001b[1;33m)\u001b[0m\u001b[1;33m\u001b[0m\u001b[1;33m\u001b[0m\u001b[0m\n\u001b[0;32m      4\u001b[0m     \u001b[0mprint\u001b[0m\u001b[1;33m(\u001b[0m\u001b[0mprice\u001b[0m\u001b[1;33m)\u001b[0m\u001b[1;33m\u001b[0m\u001b[1;33m\u001b[0m\u001b[0m\n\u001b[1;32m----> 5\u001b[1;33m     \u001b[0mtime\u001b[0m\u001b[1;33m.\u001b[0m\u001b[0msleep\u001b[0m\u001b[1;33m(\u001b[0m\u001b[1;36m1\u001b[0m\u001b[1;33m)\u001b[0m\u001b[1;33m\u001b[0m\u001b[1;33m\u001b[0m\u001b[0m\n\u001b[0m\u001b[0;32m      6\u001b[0m \u001b[1;33m\u001b[0m\u001b[0m\n\u001b[0;32m      7\u001b[0m \u001b[1;33m\u001b[0m\u001b[0m\n",
      "\u001b[1;31mKeyboardInterrupt\u001b[0m: "
     ]
    }
   ],
   "source": [
    "import time \n",
    "while True:\n",
    "    price = pb.get_current_price(\"BTC\")\n",
    "    print(price)\n",
    "    time.sleep(1)\n",
    "    \n",
    "    "
   ]
  },
  {
   "cell_type": "code",
   "execution_count": null,
   "id": "dff30d28",
   "metadata": {
    "scrolled": true
   },
   "outputs": [],
   "source": [
    "# tickers = pb.get_tickers() get tickers 는 코인의 명칭을 의미함! \n",
    "tickers = [\"BTC\", \"ETH\", \"XRP\", \"ADA\"]# 리스트로 자료형이 표현되어 있음 \n",
    "for ticker in tickers:\n",
    "    price = pb.get_current_price(ticker)\n",
    "    print(ticker,price)\n",
    "    time.sleep(0.5)\n",
    "    "
   ]
  },
  {
   "cell_type": "code",
   "execution_count": 1,
   "id": "8290116d",
   "metadata": {},
   "outputs": [
    {
     "data": {
      "text/plain": [
       "0"
      ]
     },
     "execution_count": 1,
     "metadata": {},
     "output_type": "execute_result"
    }
   ],
   "source": [
    "import sys # 시스템 접근과 관련된 라이브러리 \n",
    "from PyQt5.QtWidgets import *\n",
    "from PyQt5 import uic      # pyqt 사용 라이브러리 \n",
    "import pybithumb as pb \n",
    "form_class = uic.loadUiType(\"mywindow.ui\")[0] # pyqt 만들어온 창 열기 index 는 어차피 하나 밖에 없으므로 \n",
    "# pytq 창을 읽어오는 느낌으로 해석! \n",
    "\n",
    "class MyWindow(QMainWindow, form_class):\n",
    "    def __init__(self):\n",
    "        super().__init__()\n",
    "        self.setupUi(self)\n",
    "        self.pushButton.clicked.connect(self.inquiry)\n",
    "        \n",
    "    def inquiry(self):\n",
    "        price = pb.get_current_price(\"BTC\")\n",
    "        self.lineEdit.setText(str(price))\n",
    "        price2 = pb.get_current_price(\"ETH\")\n",
    "        self.lineEdit_2.setText(str(price2))\n",
    "        \n",
    "app = QApplication(sys.argv)\n",
    "window = MyWindow() # mywindow를 호출하는 느낌 window 객체를 찍어내서~ => 객체 생성\n",
    "window.show() # 객체로 창 띄우기 \n",
    "app.exec_() # window 특성 상 창을 계속 유지시켜 주어야 하기 때문에 ~ \n",
    "# 현재 상태에서는 동작 아직 X , 여기서 추가적으로 항목을 추가시켜야지 동작 시키게 할 수 있음 \n",
    "\n"
   ]
  },
  {
   "cell_type": "code",
   "execution_count": null,
   "id": "65010fc1",
   "metadata": {},
   "outputs": [],
   "source": [
    "# Homework https://wikidocs.net/book/1665 카톡방에도 있음 \n",
    "# 내일 모레 수업 전까지 => 1) 코인 상위 시가총액 10개 가격 조회하는 프로그램을 작성하세요. \n",
    "#                          2) 상승장 하락장 표시\n",
    "#                          3) 윈도우 앱으로 파이썬 없이도 실행 가능하도록 작성하세요. \n",
    "\n",
    "# 제출은 파이썬 코드 1, 윈도우 앱 파일 1  austiny@snu.ac.kr 로 제출 "
   ]
  },
  {
   "cell_type": "code",
   "execution_count": null,
   "id": "a4badc76",
   "metadata": {},
   "outputs": [],
   "source": []
  }
 ],
 "metadata": {
  "kernelspec": {
   "display_name": "Python 3",
   "language": "python",
   "name": "python3"
  },
  "language_info": {
   "codemirror_mode": {
    "name": "ipython",
    "version": 3
   },
   "file_extension": ".py",
   "mimetype": "text/x-python",
   "name": "python",
   "nbconvert_exporter": "python",
   "pygments_lexer": "ipython3",
   "version": "3.8.8"
  }
 },
 "nbformat": 4,
 "nbformat_minor": 5
}
